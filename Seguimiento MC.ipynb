{
 "cells": [
  {
   "cell_type": "markdown",
   "metadata": {},
   "source": [
    "# Tarea seguimiento Montecarlo\n",
    "\n",
    "Elaborado por: Carlos Andrés Betancur Yepes\n",
    "\n",
    "   Documento: 1038337471"
   ]
  },
  {
   "cell_type": "markdown",
   "metadata": {},
   "source": [
    "### Metodo de Montecarlo sencillo"
   ]
  },
  {
   "cell_type": "code",
   "execution_count": 124,
   "metadata": {},
   "outputs": [],
   "source": [
    "# Librerias necesarias\n",
    "import numpy as np\n",
    "import scipy.integrate as INT"
   ]
  },
  {
   "cell_type": "code",
   "execution_count": 125,
   "metadata": {},
   "outputs": [
    {
     "name": "stdout",
     "output_type": "stream",
     "text": [
      "Emc 10 = 44.6544    ERescalado 10 = 580.5066    Varianza10 = 32.3406\n",
      "Emc 100 = 33.7292    ERescalado 100 = 438.4797    Varianza100 = 29.376\n",
      "Emc 1000 = 30.3935    ERescalado 1000 = 395.116    Varianza1000 = 28.2552\n",
      "Emc 10000 = 30.9699    ERescalado 10000 = 402.6082    Varianza10000 = 29.0966\n",
      "Emc 100000 = 31.2438    ERescalado 100000 = 406.1696    Varianza100000 = 29.0881\n",
      "Emc 1000000 = 31.3415    ERescalado 1000000 = 407.439    Varianza1000000 = 29.1331\n",
      "Emc 10000000 = 31.331    ERescalado 10000000 = 407.3033    Varianza10000000 = 29.1329\n",
      "Integral = 407.3333\n",
      "Integral con Scipy = (407.3333333333333, 4.522308453639804e-12)\n"
     ]
    }
   ],
   "source": [
    "# Funcion a integrar\n",
    "def function(x):\n",
    "    return (x-10)**2+5\n",
    "\n",
    "def Integral(x): #integral de la funcion\n",
    "    return ((1./3)*(x**3))-(10*(x**2))+(105*x)\n",
    "\n",
    "def Weight(x): # funcion distribucion de probabilidad\n",
    "    return (1./(8*np.sqrt(2*np.pi)))*(np.exp((-(x-10)**2)/(128.)))\n",
    "\n",
    "# Bucle para generar varias aproximaciones\n",
    "for i in range(7):\n",
    "    \n",
    "    N=np.random.random_sample((10**(i+1)))*13\n",
    "\n",
    "    F=function(N)\n",
    "    E=np.sum(F)/len(N) # Estimacion de Montecarlo\n",
    "    s=10**(i+1)\n",
    "    RescaledE=13*E # Estimacion Reescalada\n",
    "    S=np.sqrt(np.sum((F-E)**2)/(len(N)-1)) # Varianza\n",
    "    print(\"Emc \"+str(s)+\" =\",round(E,4), \"   ERescalado \"+str(s)+\" =\",round(RescaledE,4),\"   Varianza\"+str(s)+\" =\",round(S,4))\n",
    "    \n",
    "    \n",
    "# Valor numerico de la integral\n",
    "I=Integral(13.0)-Integral(0)\n",
    "print(\"Integral =\", round(I,4))\n",
    "Int = INT.quad(lambda x: function(x), 0, 13)\n",
    "print(\"Integral con Scipy =\",Int)"
   ]
  },
  {
   "cell_type": "markdown",
   "metadata": {},
   "source": [
    "### Metodo de muestreo por importancia"
   ]
  },
  {
   "cell_type": "code",
   "execution_count": 126,
   "metadata": {},
   "outputs": [
    {
     "name": "stdout",
     "output_type": "stream",
     "text": [
      "Aprox muestreo por importancia = 419.9305686599468\n",
      "Varianza importancia = 827.4234976148371\n"
     ]
    }
   ],
   "source": [
    "# Generar puntos aleatorios segun la fdp\n",
    "n = 10000\n",
    "P=[] \n",
    "for i in range(n):\n",
    "    ran=np.random.normal(10,8)\n",
    "    if(ran>0 and ran<13): #se escoge los números que esten en el intervalo de integración 0 a 13\n",
    "        P.append(ran)\n",
    "        \n",
    "lista=np.array(P)\n",
    "E=np.sum(function(lista)/Weight(lista))*(1/n)\n",
    "\n",
    "print(\"Aprox muestreo por importancia =\",E)\n",
    "\n",
    "\n",
    "\n",
    "S=np.sqrt((1/n*np.sum((function(lista)/Weight(lista))**2)-E**2))\n",
    "\n",
    "print(\"Varianza importancia =\",S)\n"
   ]
  },
  {
   "cell_type": "code",
   "execution_count": null,
   "metadata": {},
   "outputs": [],
   "source": []
  }
 ],
 "metadata": {
  "kernelspec": {
   "display_name": "Python 3",
   "language": "python",
   "name": "python3"
  },
  "language_info": {
   "codemirror_mode": {
    "name": "ipython",
    "version": 3
   },
   "file_extension": ".py",
   "mimetype": "text/x-python",
   "name": "python",
   "nbconvert_exporter": "python",
   "pygments_lexer": "ipython3",
   "version": "3.7.0"
  }
 },
 "nbformat": 4,
 "nbformat_minor": 2
}
